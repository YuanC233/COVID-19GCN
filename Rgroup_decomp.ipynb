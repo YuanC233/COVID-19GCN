{
 "cells": [
  {
   "cell_type": "code",
   "execution_count": 18,
   "metadata": {},
   "outputs": [],
   "source": [
    "import rdkit\n",
    "import os\n",
    "from rdkit import Chem\n",
    "from rdkit import RDConfig\n",
    "from rdkit.Chem import FragmentCatalog\n",
    "from rdkit.Chem import rdRGroupDecomposition as rdRGD\n",
    "import pandas as pd"
   ]
  },
  {
   "cell_type": "code",
   "execution_count": 19,
   "metadata": {},
   "outputs": [],
   "source": [
    "f = pd.read_csv('train.csv')"
   ]
  },
  {
   "cell_type": "code",
   "execution_count": 20,
   "metadata": {},
   "outputs": [
    {
     "data": {
      "text/html": [
       "<div>\n",
       "<style scoped>\n",
       "    .dataframe tbody tr th:only-of-type {\n",
       "        vertical-align: middle;\n",
       "    }\n",
       "\n",
       "    .dataframe tbody tr th {\n",
       "        vertical-align: top;\n",
       "    }\n",
       "\n",
       "    .dataframe thead th {\n",
       "        text-align: right;\n",
       "    }\n",
       "</style>\n",
       "<table border=\"1\" class=\"dataframe\">\n",
       "  <thead>\n",
       "    <tr style=\"text-align: right;\">\n",
       "      <th></th>\n",
       "      <th>id</th>\n",
       "      <th>smiles</th>\n",
       "      <th>activity</th>\n",
       "    </tr>\n",
       "  </thead>\n",
       "  <tbody>\n",
       "    <tr>\n",
       "      <td>0</td>\n",
       "      <td>0</td>\n",
       "      <td>O=[N+]([O-])C(Br)(CO)CO</td>\n",
       "      <td>1</td>\n",
       "    </tr>\n",
       "    <tr>\n",
       "      <td>1</td>\n",
       "      <td>1</td>\n",
       "      <td>CCCCCCCCCCCCCCCC[N+](C)(C)C.[Br-]</td>\n",
       "      <td>0</td>\n",
       "    </tr>\n",
       "    <tr>\n",
       "      <td>2</td>\n",
       "      <td>2</td>\n",
       "      <td>O=C(O)CN(CCN(CC(=O)O)CC(=O)O)CCN(CC(=O)O)CC(=O)O</td>\n",
       "      <td>0</td>\n",
       "    </tr>\n",
       "    <tr>\n",
       "      <td>3</td>\n",
       "      <td>3</td>\n",
       "      <td>CCN(CC)C(=S)SSC(=S)N(CC)CC</td>\n",
       "      <td>0</td>\n",
       "    </tr>\n",
       "    <tr>\n",
       "      <td>4</td>\n",
       "      <td>4</td>\n",
       "      <td>CN(C)C(=S)SSC(=S)N(C)C</td>\n",
       "      <td>0</td>\n",
       "    </tr>\n",
       "    <tr>\n",
       "      <td>...</td>\n",
       "      <td>...</td>\n",
       "      <td>...</td>\n",
       "      <td>...</td>\n",
       "    </tr>\n",
       "    <tr>\n",
       "      <td>2092</td>\n",
       "      <td>2092</td>\n",
       "      <td>Cn1c(=O)c2c(ncn2CC2OCCO2)n(C)c1=O</td>\n",
       "      <td>0</td>\n",
       "    </tr>\n",
       "    <tr>\n",
       "      <td>2093</td>\n",
       "      <td>2093</td>\n",
       "      <td>COc1cccc2c1cc([N+](=O)[O-])c1c(C(=O)O)cc3c(c12...</td>\n",
       "      <td>0</td>\n",
       "    </tr>\n",
       "    <tr>\n",
       "      <td>2094</td>\n",
       "      <td>2094</td>\n",
       "      <td>CC(C=CC=C(C)C=CC1=C(C)CCCC1(C)C)=CC=CC=C(C)C=C...</td>\n",
       "      <td>0</td>\n",
       "    </tr>\n",
       "    <tr>\n",
       "      <td>2095</td>\n",
       "      <td>2095</td>\n",
       "      <td>O=C(O)c1cc(-c2ccccc2)nc2ccccc12</td>\n",
       "      <td>0</td>\n",
       "    </tr>\n",
       "    <tr>\n",
       "      <td>2096</td>\n",
       "      <td>2096</td>\n",
       "      <td>N#CC1CC2CC2N1C(=O)C(N)C12CC3CC(CC(O)(C3)C1)C2</td>\n",
       "      <td>0</td>\n",
       "    </tr>\n",
       "  </tbody>\n",
       "</table>\n",
       "<p>2097 rows × 3 columns</p>\n",
       "</div>"
      ],
      "text/plain": [
       "        id                                             smiles  activity\n",
       "0        0                            O=[N+]([O-])C(Br)(CO)CO         1\n",
       "1        1                  CCCCCCCCCCCCCCCC[N+](C)(C)C.[Br-]         0\n",
       "2        2   O=C(O)CN(CCN(CC(=O)O)CC(=O)O)CCN(CC(=O)O)CC(=O)O         0\n",
       "3        3                         CCN(CC)C(=S)SSC(=S)N(CC)CC         0\n",
       "4        4                             CN(C)C(=S)SSC(=S)N(C)C         0\n",
       "...    ...                                                ...       ...\n",
       "2092  2092                  Cn1c(=O)c2c(ncn2CC2OCCO2)n(C)c1=O         0\n",
       "2093  2093  COc1cccc2c1cc([N+](=O)[O-])c1c(C(=O)O)cc3c(c12...         0\n",
       "2094  2094  CC(C=CC=C(C)C=CC1=C(C)CCCC1(C)C)=CC=CC=C(C)C=C...         0\n",
       "2095  2095                    O=C(O)c1cc(-c2ccccc2)nc2ccccc12         0\n",
       "2096  2096      N#CC1CC2CC2N1C(=O)C(N)C12CC3CC(CC(O)(C3)C1)C2         0\n",
       "\n",
       "[2097 rows x 3 columns]"
      ]
     },
     "execution_count": 20,
     "metadata": {},
     "output_type": "execute_result"
    }
   ],
   "source": [
    "f"
   ]
  },
  {
   "cell_type": "code",
   "execution_count": 7,
   "metadata": {},
   "outputs": [],
   "source": [
    "fName=os.path.join(RDConfig.RDDataDir,'FunctionalGroups.txt')\n",
    "fparams = FragmentCatalog.FragCatParams(1,7,fName)\n"
   ]
  },
  {
   "cell_type": "code",
   "execution_count": 8,
   "metadata": {},
   "outputs": [],
   "source": [
    "m = Chem.MolFromSmiles(f.iloc[1, 1])\n",
    "m\n",
    "fcgen=FragmentCatalog.FragCatGenerator()\n",
    "fcat=FragmentCatalog.FragCatalog(fparams)\n",
    "num_R = fcgen.AddFragsFromMol(m,fcat)\n"
   ]
  },
  {
   "cell_type": "code",
   "execution_count": 12,
   "metadata": {},
   "outputs": [
    {
     "ename": "TypeError",
     "evalue": "'Mol' object is not callable",
     "output_type": "error",
     "traceback": [
      "\u001b[1;31m---------------------------------------------------------------------------\u001b[0m",
      "\u001b[1;31mTypeError\u001b[0m                                 Traceback (most recent call last)",
      "\u001b[1;32m<ipython-input-12-f854c0d5f09d>\u001b[0m in \u001b[0;36m<module>\u001b[1;34m\u001b[0m\n\u001b[0;32m      1\u001b[0m \u001b[0mm\u001b[0m \u001b[1;33m=\u001b[0m \u001b[0mChem\u001b[0m\u001b[1;33m.\u001b[0m\u001b[0mMolFromSmiles\u001b[0m\u001b[1;33m(\u001b[0m\u001b[0mf\u001b[0m\u001b[1;33m.\u001b[0m\u001b[0miloc\u001b[0m\u001b[1;33m[\u001b[0m\u001b[1;36m1\u001b[0m\u001b[1;33m,\u001b[0m \u001b[1;36m1\u001b[0m\u001b[1;33m]\u001b[0m\u001b[1;33m)\u001b[0m\u001b[1;33m\u001b[0m\u001b[1;33m\u001b[0m\u001b[0m\n\u001b[1;32m----> 2\u001b[1;33m \u001b[0mfparams\u001b[0m\u001b[1;33m(\u001b[0m\u001b[0mm\u001b[0m\u001b[1;33m)\u001b[0m\u001b[1;33m\u001b[0m\u001b[1;33m\u001b[0m\u001b[0m\n\u001b[0m",
      "\u001b[1;31mTypeError\u001b[0m: 'Mol' object is not callable"
     ]
    }
   ],
   "source": []
  },
  {
   "cell_type": "code",
   "execution_count": 8,
   "metadata": {},
   "outputs": [
    {
     "data": {
      "text/plain": [
       "29"
      ]
     },
     "execution_count": 8,
     "metadata": {},
     "output_type": "execute_result"
    }
   ],
   "source": [
    "num_R"
   ]
  },
  {
   "cell_type": "code",
   "execution_count": 9,
   "metadata": {
    "scrolled": true
   },
   "outputs": [
    {
     "data": {
      "text/plain": [
       "'CCCC[N+](C)(C)C'"
      ]
     },
     "execution_count": 9,
     "metadata": {},
     "output_type": "execute_result"
    }
   ],
   "source": [
    "[fcat.GetEntryDescription(i) for i in range(num_R)][-1]"
   ]
  },
  {
   "cell_type": "code",
   "execution_count": 84,
   "metadata": {},
   "outputs": [
    {
     "data": {
      "text/plain": [
       "{'charge': 0, 'hcount': 0, 'aromatic': False, 'element': 'Aaa'}"
      ]
     },
     "execution_count": 84,
     "metadata": {},
     "output_type": "execute_result"
    }
   ],
   "source": [
    "from pysmiles import read_smiles\n",
    "read_smiles('C(=O)O', explicit_hydrogen=True, reinterpret_aromatic=True)\n",
    "a = read_smiles('C=C[Aaa]')\n",
    "a.nodes[2]"
   ]
  },
  {
   "cell_type": "code",
   "execution_count": 114,
   "metadata": {},
   "outputs": [
    {
     "data": {
      "text/plain": [
       "'[1*]CCBr.[2*]C(=O)O'"
      ]
     },
     "execution_count": 114,
     "metadata": {},
     "output_type": "execute_result"
    }
   ],
   "source": [
    "m1 = Chem.MolFromSmiles('BrCCc1ccccc1C(=O)O')\n",
    "core = Chem.MolFromSmiles('c1ccccc1')\n",
    "tmp = Chem.ReplaceCore(m1,core)\n",
    "Chem.MolToSmiles(tmp)"
   ]
  },
  {
   "cell_type": "code",
   "execution_count": 87,
   "metadata": {},
   "outputs": [
    {
     "data": {
      "text/plain": [
       "NodeView((0, 1, 2, 3, 4, 5, 6, 7))"
      ]
     },
     "execution_count": 87,
     "metadata": {},
     "output_type": "execute_result"
    }
   ],
   "source": [
    "read_smiles('[1*]CCBr.[2*]C(=O)O').nodes()"
   ]
  },
  {
   "cell_type": "code",
   "execution_count": 110,
   "metadata": {},
   "outputs": [],
   "source": [
    "b = read_smiles('[A](CCBr)(C(=O)O)')"
   ]
  },
  {
   "cell_type": "code",
   "execution_count": 111,
   "metadata": {},
   "outputs": [
    {
     "data": {
      "image/png": "[encoded data removed]",
      "text/plain": [
       "<Figure size 432x288 with 1 Axes>"
      ]
     },
     "metadata": {},
     "output_type": "display_data"
    }
   ],
   "source": [
    "import networkx as nx\n",
    "nx.draw(b)"
   ]
  },
  {
   "cell_type": "code",
   "execution_count": 9,
   "metadata": {},
   "outputs": [],
   "source": [
    "from rdkit.Chem import ChemicalFeatures"
   ]
  },
  {
   "cell_type": "code",
   "execution_count": 10,
   "metadata": {},
   "outputs": [],
   "source": [
    "fdefName = os.path.join(RDConfig.RDDataDir,'BaseFeatures.fdef')\n",
    "factory = ChemicalFeatures.BuildFeatureFactory(fdefName)"
   ]
  },
  {
   "cell_type": "code",
   "execution_count": 25,
   "metadata": {},
   "outputs": [
    {
     "data": {
      "text/plain": [
       "2"
      ]
     },
     "execution_count": 25,
     "metadata": {},
     "output_type": "execute_result"
    }
   ],
   "source": [
    "m = Chem.MolFromSmiles('CCN(CC)C(=S)SSC(=S)N(CC)CC')\n",
    "feats = factory.GetFeaturesForMol(m)\n",
    "len(feats)"
   ]
  },
  {
   "cell_type": "code",
   "execution_count": 26,
   "metadata": {},
   "outputs": [
    {
     "name": "stdout",
     "output_type": "stream",
     "text": [
      "Donor\n",
      "SingleAtomDonor\n",
      "(2,)\n",
      "Donor\n",
      "SingleAtomDonor\n",
      "(11,)\n"
     ]
    }
   ],
   "source": [
    "for i in range(len(feats)):\n",
    "    print(feats[i].GetFamily())\n",
    "    print(feats[i].GetType())\n",
    "    print(feats[i].GetAtomIds())"
   ]
  },
  {
   "cell_type": "code",
   "execution_count": 22,
   "metadata": {},
   "outputs": [
    {
     "name": "stdout",
     "output_type": "stream",
     "text": [
      "{'Donor': 1, 'Acceptor': 1, 'LumpedHydrophobe': 1, 'PosIonizable': 1, 'Hydrophobe': 1, 'NegIonizable': 1, 'ZnBinder': 1, 'Aromatic': 1}\n",
      "8\n"
     ]
    }
   ],
   "source": [
    "unique_feat = {}\n",
    "for i in range(len(f)):\n",
    "    m = Chem.MolFromSmiles(f.iloc[i, 1])\n",
    "    feats = factory.GetFeaturesForMol(m)\n",
    "    for feat in feats:\n",
    "        if feat.GetFamily() not in unique_feat:\n",
    "            unique_feat[feat.GetFamily()] = 1\n",
    "print(unique_feat)\n",
    "print(len(unique_feat))"
   ]
  },
  {
   "cell_type": "code",
   "execution_count": 24,
   "metadata": {},
   "outputs": [
    {
     "name": "stdout",
     "output_type": "stream",
     "text": [
      "{'SingleAtomDonor': 0, 'SingleAtomAcceptor': 1, 'Nitro2': 2, 'PosN': 3, 'ChainTwoWayAttach': 4, 'AcidicGroup': 5, 'BasicGroup': 6, 'ZnBinder5': 7, 'ThreeWayAttach': 8, 'ZnBinder1': 9, 'iPropyl': 10, 'Guanidine': 11, 'ZnBinder6': 12, 'ZnBinder4': 13, 'RH6_6': 14, 'RH5_5': 15, 'tButyl': 16, 'Arom6': 17, 'Arom5': 18, 'Imidazole': 19, 'RH3_3': 20, 'RH4_4': 21, 'Arom7': 22}\n",
      "23\n"
     ]
    }
   ],
   "source": [
    "unique_feat = {}\n",
    "for i in range(len(f)):\n",
    "    m = Chem.MolFromSmiles(f.iloc[i, 1])\n",
    "    feats = factory.GetFeaturesForMol(m)\n",
    "    for feat in feats:\n",
    "        if feat.GetType() not in unique_feat:\n",
    "            unique_feat[feat.GetType()] = len(unique_feat)\n",
    "print(unique_feat)\n",
    "print(len(unique_feat))"
   ]
  },
  {
   "cell_type": "code",
   "execution_count": 27,
   "metadata": {},
   "outputs": [],
   "source": [
    "m = Chem.MolFromSmiles('CCN(CC)C(=S)SSC(=S)N(CC)CC')\n",
    "m2 = Chem.AddHs(m)"
   ]
  },
  {
   "cell_type": "code",
   "execution_count": 29,
   "metadata": {},
   "outputs": [],
   "source": [
    "feats = factory.GetFeaturesForMol(m2)"
   ]
  },
  {
   "cell_type": "code",
   "execution_count": 31,
   "metadata": {
    "scrolled": true
   },
   "outputs": [
    {
     "name": "stdout",
     "output_type": "stream",
     "text": [
      "Donor\n",
      "SingleAtomDonor\n",
      "(2,)\n",
      "Donor\n",
      "SingleAtomDonor\n",
      "(11,)\n",
      "Hydrophobe\n",
      "ThreeWayAttach\n",
      "(0,)\n",
      "Hydrophobe\n",
      "ThreeWayAttach\n",
      "(4,)\n",
      "Hydrophobe\n",
      "ThreeWayAttach\n",
      "(13,)\n",
      "Hydrophobe\n",
      "ThreeWayAttach\n",
      "(15,)\n"
     ]
    }
   ],
   "source": [
    "for i in range(len(feats)):\n",
    "    print(feats[i].GetFamily())\n",
    "    print(feats[i].GetType())\n",
    "    print(feats[i].GetAtomIds())"
   ]
  },
  {
   "cell_type": "code",
   "execution_count": 35,
   "metadata": {},
   "outputs": [
    {
     "data": {
      "text/plain": [
       "36"
      ]
     },
     "execution_count": 35,
     "metadata": {},
     "output_type": "execute_result"
    }
   ],
   "source": [
    "num_atom = m2.GetNumAtoms()\n",
    "num_atom"
   ]
  },
  {
   "cell_type": "code",
   "execution_count": null,
   "metadata": {},
   "outputs": [],
   "source": []
  }
 ],
 "metadata": {
  "kernelspec": {
   "display_name": "Python 3",
   "language": "python",
   "name": "python3"
  },
  "language_info": {
   "codemirror_mode": {
    "name": "ipython",
    "version": 3
   },
   "file_extension": ".py",
   "mimetype": "text/x-python",
   "name": "python",
   "nbconvert_exporter": "python",
   "pygments_lexer": "ipython3",
   "version": "3.7.4"
  }
 },
 "nbformat": 4,
 "nbformat_minor": 4
}
