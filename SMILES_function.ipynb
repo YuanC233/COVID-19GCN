{
 "cells": [
  {
   "cell_type": "code",
   "execution_count": 1,
   "metadata": {},
   "outputs": [],
   "source": [
    "from pysmiles import read_smiles\n",
    "import networkx as nx"
   ]
  },
  {
   "cell_type": "code",
   "execution_count": 17,
   "metadata": {},
   "outputs": [],
   "source": [
    "def get_data(filename):\n",
    "    '''\n",
    "    filename in the format of 'xxx.csv'\n",
    "    '''\n",
    "    # load ele2idx: important to have consistent indices!\n",
    "    # create dictionary\n",
    "    ele2idx={}\n",
    "    with open('ele2idx.txt', 'r') as f:\n",
    "        for line in f:\n",
    "            l = line.strip().split()\n",
    "            ele2idx[l[0]]=int(l[1])\n",
    "            \n",
    "    # read data and get structure and label of all molecules \n",
    "    all_molecules = [] # list containing all molecules\n",
    "    labels = []\n",
    "    with open(filename) as f:\n",
    "        f.readline()\n",
    "        for line in f:\n",
    "            if line != '':\n",
    "                l = line.strip().split(',')\n",
    "                assert len(l) == 3\n",
    "                smiles = l[1]\n",
    "                labels.append(l[2])\n",
    "                mol = read_smiles(smiles, explicit_hydrogen=True, reinterpret_aromatic=True)\n",
    "                all_molecules.append(mol)  \n",
    "    \n",
    "    # assign nodes in each molecule an index according to ele2idx dict, get adjacency matrix for each molecule\n",
    "    all_mol_idx = []\n",
    "    mtx = []\n",
    "    for mol in all_molecules:\n",
    "        all_mol_idx.append([ele2idx[i[1]] for i in mol.nodes(data='element')])\n",
    "        mtx.append(nx.to_numpy_matrix(mol, weight='order')) # edge weight is defined by order\n",
    "    data = zip(all_mol_idx, mtx, labels) # put all info related to each mol together\n",
    "    return data"
   ]
  },
  {
   "cell_type": "code",
   "execution_count": 18,
   "metadata": {},
   "outputs": [],
   "source": [
    "train_data = get_data('train.csv')"
   ]
  },
  {
   "cell_type": "code",
   "execution_count": null,
   "metadata": {},
   "outputs": [],
   "source": []
  }
 ],
 "metadata": {
  "kernelspec": {
   "display_name": "Python 3",
   "language": "python",
   "name": "python3"
  },
  "language_info": {
   "codemirror_mode": {
    "name": "ipython",
    "version": 3
   },
   "file_extension": ".py",
   "mimetype": "text/x-python",
   "name": "python",
   "nbconvert_exporter": "python",
   "pygments_lexer": "ipython3",
   "version": "3.7.4"
  }
 },
 "nbformat": 4,
 "nbformat_minor": 4
}
